{
  "nbformat": 4,
  "nbformat_minor": 0,
  "metadata": {
    "colab": {
      "name": "Monte-Carlo Pi Calc (4.24).ipynb",
      "provenance": [],
      "collapsed_sections": []
    },
    "kernelspec": {
      "name": "python3",
      "display_name": "Python 3"
    },
    "language_info": {
      "name": "python"
    }
  },
  "cells": [
    {
      "cell_type": "markdown",
      "metadata": {
        "id": "cE640TgMICDH"
      },
      "source": [
        "Calculating $\\pi$ using Monte-Carlo Simulation\n",
        "-------"
      ]
    },
    {
      "cell_type": "markdown",
      "metadata": {
        "id": "xkP9ZumNJHuq"
      },
      "source": [
        "Prerequisites / Import statements\n",
        "--------\n",
        "------------"
      ]
    },
    {
      "cell_type": "code",
      "metadata": {
        "id": "EuAd5PUHHI2e"
      },
      "source": [
        "import numpy as np\n",
        "from numpy import random\n",
        "import threading\n",
        "import matplotlib.pyplot as plt\n",
        "import random\n",
        "import matplotlib.pyplot as plt\n",
        "import time"
      ],
      "execution_count": null,
      "outputs": []
    },
    {
      "cell_type": "markdown",
      "metadata": {
        "id": "m24hZKpFJbj7"
      },
      "source": [
        "Non-Multithreaded Version of Monte-Carlo Simulation to calculate $\\pi$\n",
        "--------"
      ]
    },
    {
      "cell_type": "code",
      "metadata": {
        "colab": {
          "base_uri": "https://localhost:8080/",
          "height": 316
        },
        "id": "tOZ3TGw9JbP_",
        "outputId": "798cc28c-532e-42f3-cb6c-b7ecbdf157c9"
      },
      "source": [
        "n_points = 10_000\n",
        "rectx = []\n",
        "recty = []\n",
        "circlex = []\n",
        "circley = []\n",
        "tic = time.process_time()\n",
        "for j in range(n_points) :\n",
        "  x = random.uniform(-1,1)\n",
        "  y = random.uniform(-1,1)\n",
        "  temp = x**2 + y**2\n",
        "  if(temp<=1) :\n",
        "    circlex.append(x)\n",
        "    circley.append(y)\n",
        "  else :\n",
        "    rectx.append(x)\n",
        "    recty.append(y)\n",
        "  # points_in_circle = circlex.size()\n",
        "  # points_in_rect = rectx.size()\n",
        "  plt.plot(circlex,circley,'r*')\n",
        "  plt.plot(rectx,recty,'b*')\n",
        "toc = time.process_time()\n",
        "print(\"Computation time = \"+str(1000*(toc - tic ))+\"ms\")\n",
        "print(\"Actual Pi : \" + str(np.pi))\n",
        "print(\"Pi we estimated : \" + str(4*(len(circlex)/(len(circlex)+len(rectx)))))"
      ],
      "execution_count": null,
      "outputs": [
        {
          "output_type": "stream",
          "name": "stdout",
          "text": [
            "Computation time = 23410.091868999985ms\n",
            "Actual Pi : 3.141592653589793\n",
            "Pi we estimated : 3.1376\n"
          ]
        },
        {
          "output_type": "display_data",
          "data": {
            "image/png": "[encoded data removed]",
            "text/plain": [
              "<Figure size 432x288 with 1 Axes>"
            ]
          },
          "metadata": {
            "needs_background": "light"
          }
        }
      ]
    },
    {
      "cell_type": "markdown",
      "metadata": {
        "id": "vhL-dIPDvNIp"
      },
      "source": [
        "Multithreaded Version of Monte-Carlo Simulation to calculate $\\pi$\n",
        "--------"
      ]
    },
    {
      "cell_type": "code",
      "metadata": {
        "id": "A65g_muevTPo",
        "colab": {
          "base_uri": "https://localhost:8080/",
          "height": 299
        },
        "outputId": "be5f01d4-302d-4fe8-f612-f188387bd19d"
      },
      "source": [
        "n_points = 10_000\n",
        "rectx = []\n",
        "recty = []\n",
        "circlex = []\n",
        "circley = []\n",
        "our_pi = 0\n",
        "def get_points(n_points):\n",
        "  for i in range(n_points) :\n",
        "    x = random.uniform(-1,1)\n",
        "    y = random.uniform(-1,1)\n",
        "    temp = x**2 + y**2\n",
        "    if(temp<=1) :\n",
        "      circlex.append(x)\n",
        "      circley.append(y)\n",
        "    else :\n",
        "      rectx.append(x)\n",
        "      recty.append(y)\n",
        "    # points_in_circle = circlex.size()\n",
        "    # points_in_rect = rectx.size()\n",
        "    plt.plot(circlex,circley,'r*')\n",
        "    plt.plot(rectx,recty,'b*')\n",
        "\n",
        "def get_pi(n_points):\n",
        "  child_thread = threading.Thread(target=get_points,args=(n_points,))\n",
        "  child_thread.start()\n",
        "  child_thread.join()\n",
        "  our_pi = 4*(len(circlex)/n_points)\n",
        "  print(\"Pi we estimated : \" + str(our_pi))\n",
        "\n",
        "parent_thread = threading.Thread(target=get_pi,args=(n_points,))\n",
        "parent_thread.start()\n",
        "parent_thread.join()\n",
        "print(\"Actual Pi : \" + str(np.pi))\n"
      ],
      "execution_count": null,
      "outputs": [
        {
          "output_type": "stream",
          "name": "stdout",
          "text": [
            "Pi we estimated : 3.138\n",
            "Actual Pi : 3.141592653589793\n"
          ]
        },
        {
          "output_type": "display_data",
          "data": {
            "image/png": "[encoded data removed]",
            "text/plain": [
              "<Figure size 432x288 with 1 Axes>"
            ]
          },
          "metadata": {
            "needs_background": "light"
          }
        }
      ]
    }
  ]
}